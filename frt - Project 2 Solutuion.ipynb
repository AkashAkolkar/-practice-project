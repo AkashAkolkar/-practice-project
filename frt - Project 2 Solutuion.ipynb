{
 "cells": [
  {
   "cell_type": "raw",
   "id": "d6c56516",
   "metadata": {},
   "source": [
    "9Medical Cost Personal Insurance Project\n",
    "Project Description\n",
    "Health insurance is a type of insurance that covers medical expenses that arise due to an illness. \n",
    "These expenses could be related to hospitalisation costs, cost of medicines or doctor consultation fees. \n",
    "The main purpose of medical insurance is to receive the best medical care without any strain on your finances. \n",
    "Health insurance plans offer protection against high medical costs. It covers hospitalization expenses, \n",
    "day care procedures, domiciliary expenses, and ambulance charges, besides many others. Based on certain input features such as\n",
    "age , bmi,,no of dependents ,smoker ,region  medical insurance is calculated .\n",
    "Columns \n",
    "\n",
    "•age: age of primary beneficiary\n",
    "•sex: insurance contractor gender, female, male\n",
    "•bmi: Body mass index, providing an understanding of body, weights that are relatively high or low relative to height, \n",
    "    objective index of body weight (kg / m ^ 2) using the ratio of height to weight, ideally 18.5 to 24.9.\n",
    "•children: Number of children covered by health insurance / Number of dependents\n",
    "•smoker: Smoking\n",
    "•region: the beneficiary's residential area in the US, northeast, southeast, southwest, northwest.\n",
    "•charges: Individual medical costs billed by health insurance\n",
    "\n",
    "Predict : Can you accurately predict insurance costs?\n",
    "\n",
    "Dataset Link-\n",
    "https://github.com/dsrscientist/dataset4\n",
    "https://github.com/dsrscientist/dataset4/blob/main/medical_cost_insurance.csv\n"
   ]
  },
  {
   "cell_type": "code",
   "execution_count": 1,
   "id": "48b56cb3",
   "metadata": {},
   "outputs": [],
   "source": [
    "import pandas as pd\n",
    "import numpy as np\n",
    "import sklearn\n",
    "\n",
    "import seaborn as sns\n",
    "import matplotlib.pyplot as plt\n",
    "\n",
    "import warnings\n",
    "warnings.filterwarnings('ignore')"
   ]
  },
  {
   "cell_type": "code",
   "execution_count": 2,
   "id": "beec8469",
   "metadata": {},
   "outputs": [],
   "source": [
    "df = pd.read_csv('Medical_Insurance.csv')"
   ]
  },
  {
   "cell_type": "code",
   "execution_count": 3,
   "id": "452edb99",
   "metadata": {},
   "outputs": [
    {
     "data": {
      "text/html": [
       "<div>\n",
       "<style scoped>\n",
       "    .dataframe tbody tr th:only-of-type {\n",
       "        vertical-align: middle;\n",
       "    }\n",
       "\n",
       "    .dataframe tbody tr th {\n",
       "        vertical-align: top;\n",
       "    }\n",
       "\n",
       "    .dataframe thead th {\n",
       "        text-align: right;\n",
       "    }\n",
       "</style>\n",
       "<table border=\"1\" class=\"dataframe\">\n",
       "  <thead>\n",
       "    <tr style=\"text-align: right;\">\n",
       "      <th></th>\n",
       "      <th>age</th>\n",
       "      <th>sex</th>\n",
       "      <th>bmi</th>\n",
       "      <th>children</th>\n",
       "      <th>smoker</th>\n",
       "      <th>region</th>\n",
       "      <th>charges</th>\n",
       "    </tr>\n",
       "  </thead>\n",
       "  <tbody>\n",
       "    <tr>\n",
       "      <th>0</th>\n",
       "      <td>19</td>\n",
       "      <td>female</td>\n",
       "      <td>27.900</td>\n",
       "      <td>0</td>\n",
       "      <td>yes</td>\n",
       "      <td>southwest</td>\n",
       "      <td>16884.92400</td>\n",
       "    </tr>\n",
       "    <tr>\n",
       "      <th>1</th>\n",
       "      <td>18</td>\n",
       "      <td>male</td>\n",
       "      <td>33.770</td>\n",
       "      <td>1</td>\n",
       "      <td>no</td>\n",
       "      <td>southeast</td>\n",
       "      <td>1725.55230</td>\n",
       "    </tr>\n",
       "    <tr>\n",
       "      <th>2</th>\n",
       "      <td>28</td>\n",
       "      <td>male</td>\n",
       "      <td>33.000</td>\n",
       "      <td>3</td>\n",
       "      <td>no</td>\n",
       "      <td>southeast</td>\n",
       "      <td>4449.46200</td>\n",
       "    </tr>\n",
       "    <tr>\n",
       "      <th>3</th>\n",
       "      <td>33</td>\n",
       "      <td>male</td>\n",
       "      <td>22.705</td>\n",
       "      <td>0</td>\n",
       "      <td>no</td>\n",
       "      <td>northwest</td>\n",
       "      <td>21984.47061</td>\n",
       "    </tr>\n",
       "    <tr>\n",
       "      <th>4</th>\n",
       "      <td>32</td>\n",
       "      <td>male</td>\n",
       "      <td>28.880</td>\n",
       "      <td>0</td>\n",
       "      <td>no</td>\n",
       "      <td>northwest</td>\n",
       "      <td>3866.85520</td>\n",
       "    </tr>\n",
       "  </tbody>\n",
       "</table>\n",
       "</div>"
      ],
      "text/plain": [
       "   age     sex     bmi  children smoker     region      charges\n",
       "0   19  female  27.900         0    yes  southwest  16884.92400\n",
       "1   18    male  33.770         1     no  southeast   1725.55230\n",
       "2   28    male  33.000         3     no  southeast   4449.46200\n",
       "3   33    male  22.705         0     no  northwest  21984.47061\n",
       "4   32    male  28.880         0     no  northwest   3866.85520"
      ]
     },
     "execution_count": 3,
     "metadata": {},
     "output_type": "execute_result"
    }
   ],
   "source": [
    "\n",
    "df.head(5)"
   ]
  },
  {
   "cell_type": "raw",
   "id": "eb9da9bb",
   "metadata": {},
   "source": [
    "Checking shape of dataset"
   ]
  },
  {
   "cell_type": "code",
   "execution_count": 4,
   "id": "48d6db67",
   "metadata": {},
   "outputs": [
    {
     "data": {
      "text/plain": [
       "(1338, 7)"
      ]
     },
     "execution_count": 4,
     "metadata": {},
     "output_type": "execute_result"
    }
   ],
   "source": [
    "df.shape"
   ]
  },
  {
   "cell_type": "markdown",
   "id": "af3a5f31",
   "metadata": {},
   "source": [
    "we have 1339 as rows and 7 columns"
   ]
  },
  {
   "cell_type": "raw",
   "id": "82038747",
   "metadata": {},
   "source": [
    "checking for any null values present in the dataset"
   ]
  },
  {
   "cell_type": "code",
   "execution_count": 5,
   "id": "15894555",
   "metadata": {},
   "outputs": [
    {
     "data": {
      "text/plain": [
       "age         0\n",
       "sex         0\n",
       "bmi         0\n",
       "children    0\n",
       "smoker      0\n",
       "region      0\n",
       "charges     0\n",
       "dtype: int64"
      ]
     },
     "execution_count": 5,
     "metadata": {},
     "output_type": "execute_result"
    }
   ],
   "source": [
    "df.isnull().sum()"
   ]
  },
  {
   "cell_type": "markdown",
   "id": "818b0c69",
   "metadata": {},
   "source": [
    "so we dont have any null values in the dataset"
   ]
  },
  {
   "cell_type": "code",
   "execution_count": 6,
   "id": "ce5cbd69",
   "metadata": {},
   "outputs": [
    {
     "data": {
      "text/plain": [
       "age           int64\n",
       "sex          object\n",
       "bmi         float64\n",
       "children      int64\n",
       "smoker       object\n",
       "region       object\n",
       "charges     float64\n",
       "dtype: object"
      ]
     },
     "execution_count": 6,
     "metadata": {},
     "output_type": "execute_result"
    }
   ],
   "source": [
    "df.dtypes"
   ]
  },
  {
   "cell_type": "markdown",
   "id": "3d4d74c1",
   "metadata": {},
   "source": [
    "So we have total 3 data types in the dataset which are int64, float64 and object"
   ]
  },
  {
   "cell_type": "code",
   "execution_count": 7,
   "id": "481fddc4",
   "metadata": {},
   "outputs": [
    {
     "name": "stdout",
     "output_type": "stream",
     "text": [
      "<class 'pandas.core.frame.DataFrame'>\n",
      "RangeIndex: 1338 entries, 0 to 1337\n",
      "Data columns (total 7 columns):\n",
      " #   Column    Non-Null Count  Dtype  \n",
      "---  ------    --------------  -----  \n",
      " 0   age       1338 non-null   int64  \n",
      " 1   sex       1338 non-null   object \n",
      " 2   bmi       1338 non-null   float64\n",
      " 3   children  1338 non-null   int64  \n",
      " 4   smoker    1338 non-null   object \n",
      " 5   region    1338 non-null   object \n",
      " 6   charges   1338 non-null   float64\n",
      "dtypes: float64(2), int64(2), object(3)\n",
      "memory usage: 73.3+ KB\n"
     ]
    }
   ],
   "source": [
    "df.info()"
   ]
  },
  {
   "cell_type": "code",
   "execution_count": null,
   "id": "d3dcfb07",
   "metadata": {},
   "outputs": [],
   "source": []
  },
  {
   "cell_type": "code",
   "execution_count": 8,
   "id": "1175a989",
   "metadata": {},
   "outputs": [
    {
     "data": {
      "text/html": [
       "<div>\n",
       "<style scoped>\n",
       "    .dataframe tbody tr th:only-of-type {\n",
       "        vertical-align: middle;\n",
       "    }\n",
       "\n",
       "    .dataframe tbody tr th {\n",
       "        vertical-align: top;\n",
       "    }\n",
       "\n",
       "    .dataframe thead th {\n",
       "        text-align: right;\n",
       "    }\n",
       "</style>\n",
       "<table border=\"1\" class=\"dataframe\">\n",
       "  <thead>\n",
       "    <tr style=\"text-align: right;\">\n",
       "      <th></th>\n",
       "      <th>age</th>\n",
       "      <th>bmi</th>\n",
       "      <th>children</th>\n",
       "      <th>charges</th>\n",
       "    </tr>\n",
       "  </thead>\n",
       "  <tbody>\n",
       "    <tr>\n",
       "      <th>count</th>\n",
       "      <td>1338.000000</td>\n",
       "      <td>1338.000000</td>\n",
       "      <td>1338.000000</td>\n",
       "      <td>1338.000000</td>\n",
       "    </tr>\n",
       "    <tr>\n",
       "      <th>mean</th>\n",
       "      <td>39.207025</td>\n",
       "      <td>30.663397</td>\n",
       "      <td>1.094918</td>\n",
       "      <td>13270.422265</td>\n",
       "    </tr>\n",
       "    <tr>\n",
       "      <th>std</th>\n",
       "      <td>14.049960</td>\n",
       "      <td>6.098187</td>\n",
       "      <td>1.205493</td>\n",
       "      <td>12110.011237</td>\n",
       "    </tr>\n",
       "    <tr>\n",
       "      <th>min</th>\n",
       "      <td>18.000000</td>\n",
       "      <td>15.960000</td>\n",
       "      <td>0.000000</td>\n",
       "      <td>1121.873900</td>\n",
       "    </tr>\n",
       "    <tr>\n",
       "      <th>25%</th>\n",
       "      <td>27.000000</td>\n",
       "      <td>26.296250</td>\n",
       "      <td>0.000000</td>\n",
       "      <td>4740.287150</td>\n",
       "    </tr>\n",
       "    <tr>\n",
       "      <th>50%</th>\n",
       "      <td>39.000000</td>\n",
       "      <td>30.400000</td>\n",
       "      <td>1.000000</td>\n",
       "      <td>9382.033000</td>\n",
       "    </tr>\n",
       "    <tr>\n",
       "      <th>75%</th>\n",
       "      <td>51.000000</td>\n",
       "      <td>34.693750</td>\n",
       "      <td>2.000000</td>\n",
       "      <td>16639.912515</td>\n",
       "    </tr>\n",
       "    <tr>\n",
       "      <th>max</th>\n",
       "      <td>64.000000</td>\n",
       "      <td>53.130000</td>\n",
       "      <td>5.000000</td>\n",
       "      <td>63770.428010</td>\n",
       "    </tr>\n",
       "  </tbody>\n",
       "</table>\n",
       "</div>"
      ],
      "text/plain": [
       "               age          bmi     children       charges\n",
       "count  1338.000000  1338.000000  1338.000000   1338.000000\n",
       "mean     39.207025    30.663397     1.094918  13270.422265\n",
       "std      14.049960     6.098187     1.205493  12110.011237\n",
       "min      18.000000    15.960000     0.000000   1121.873900\n",
       "25%      27.000000    26.296250     0.000000   4740.287150\n",
       "50%      39.000000    30.400000     1.000000   9382.033000\n",
       "75%      51.000000    34.693750     2.000000  16639.912515\n",
       "max      64.000000    53.130000     5.000000  63770.428010"
      ]
     },
     "execution_count": 8,
     "metadata": {},
     "output_type": "execute_result"
    }
   ],
   "source": [
    "df.describe()"
   ]
  },
  {
   "cell_type": "markdown",
   "id": "0d01d934",
   "metadata": {},
   "source": [
    "so here we can see that in age, bmi, children columns mean and median are almost equal "
   ]
  },
  {
   "cell_type": "code",
   "execution_count": null,
   "id": "30f42a38",
   "metadata": {},
   "outputs": [],
   "source": []
  },
  {
   "cell_type": "raw",
   "id": "d526765f",
   "metadata": {},
   "source": [
    "lets plot distribution plots to check distribution of data in int and float columns"
   ]
  },
  {
   "cell_type": "code",
   "execution_count": 9,
   "id": "2909e25b",
   "metadata": {},
   "outputs": [
    {
     "data": {
      "image/png": "[encoded data removed]",
      "text/plain": [
       "<Figure size 400x400 with 1 Axes>"
      ]
     },
     "metadata": {},
     "output_type": "display_data"
    }
   ],
   "source": [
    "plt.figure(figsize=(4,4))\n",
    "sns.distplot(df['age'])\n",
    "plt.show()"
   ]
  },
  {
   "cell_type": "markdown",
   "id": "45175f57",
   "metadata": {},
   "source": [
    "by observing this distplot we can say that majority of people are from 20 to 25 and 40 to 60"
   ]
  },
  {
   "cell_type": "code",
   "execution_count": 10,
   "id": "daf9474a",
   "metadata": {},
   "outputs": [
    {
     "data": {
      "image/png": "[encoded data removed]",
      "text/plain": [
       "<Figure size 400x400 with 1 Axes>"
      ]
     },
     "metadata": {},
     "output_type": "display_data"
    }
   ],
   "source": [
    "plt.figure(figsize=(4,4))\n",
    "sns.distplot(df['bmi'])\n",
    "plt.show()"
   ]
  },
  {
   "cell_type": "markdown",
   "id": "44ed0f61",
   "metadata": {},
   "source": [
    "so here we can see that for bmi distribution is normal "
   ]
  },
  {
   "cell_type": "code",
   "execution_count": 11,
   "id": "c6804d14",
   "metadata": {},
   "outputs": [
    {
     "data": {
      "image/png": "[encoded data removed]",
      "text/plain": [
       "<Figure size 400x400 with 1 Axes>"
      ]
     },
     "metadata": {},
     "output_type": "display_data"
    },
    {
     "data": {
      "text/plain": [
       "0    574\n",
       "1    324\n",
       "2    240\n",
       "3    157\n",
       "4     25\n",
       "5     18\n",
       "Name: children, dtype: int64"
      ]
     },
     "execution_count": 11,
     "metadata": {},
     "output_type": "execute_result"
    }
   ],
   "source": [
    "plt.figure(figsize=(4,4))\n",
    "sns.distplot(df['children'])\n",
    "plt.show()\n",
    "df['children'].value_counts()"
   ]
  },
  {
   "cell_type": "markdown",
   "id": "32ab0704",
   "metadata": {},
   "source": [
    "people are with 0 childrens are higher than 1,2,3,4,5"
   ]
  },
  {
   "cell_type": "code",
   "execution_count": 12,
   "id": "95f43596",
   "metadata": {},
   "outputs": [
    {
     "data": {
      "image/png": "[encoded data removed]",
      "text/plain": [
       "<Figure size 400x400 with 1 Axes>"
      ]
     },
     "metadata": {},
     "output_type": "display_data"
    }
   ],
   "source": [
    "plt.figure(figsize=(4,4))\n",
    "sns.distplot(df['charges'])\n",
    "plt.show()"
   ]
  },
  {
   "cell_type": "code",
   "execution_count": null,
   "id": "70f0b37b",
   "metadata": {},
   "outputs": [],
   "source": []
  },
  {
   "cell_type": "raw",
   "id": "3d27e17e",
   "metadata": {},
   "source": [
    "Lets check for categorical coulmns"
   ]
  },
  {
   "cell_type": "code",
   "execution_count": 13,
   "id": "4f1363f1",
   "metadata": {},
   "outputs": [
    {
     "data": {
      "image/png": "[encoded data removed]",
      "text/plain": [
       "<Figure size 400x400 with 1 Axes>"
      ]
     },
     "metadata": {},
     "output_type": "display_data"
    }
   ],
   "source": [
    "plt.figure(figsize=(4,4))\n",
    "sns.countplot(x=df['sex'])\n",
    "plt.show()"
   ]
  },
  {
   "cell_type": "markdown",
   "id": "32afe4c7",
   "metadata": {},
   "source": [
    "as we can see in sex coulumn male and female are almost equal"
   ]
  },
  {
   "cell_type": "code",
   "execution_count": 14,
   "id": "31c2d0b1",
   "metadata": {},
   "outputs": [
    {
     "data": {
      "image/png": "[encoded data removed]",
      "text/plain": [
       "<Figure size 400x400 with 1 Axes>"
      ]
     },
     "metadata": {},
     "output_type": "display_data"
    }
   ],
   "source": [
    "plt.figure(figsize=(4,4))\n",
    "sns.countplot(x=df['smoker'])\n",
    "plt.show()"
   ]
  },
  {
   "cell_type": "markdown",
   "id": "c9944fa3",
   "metadata": {},
   "source": [
    "watching this countplot we can clearly say that people who are not smokers are higher than people who smoke"
   ]
  },
  {
   "cell_type": "code",
   "execution_count": 15,
   "id": "79519fad",
   "metadata": {},
   "outputs": [
    {
     "data": {
      "image/png": "[encoded data removed]",
      "text/plain": [
       "<Figure size 400x400 with 1 Axes>"
      ]
     },
     "metadata": {},
     "output_type": "display_data"
    }
   ],
   "source": [
    "plt.figure(figsize=(4,4))\n",
    "sns.countplot(x=df['region'])\n",
    "plt.show()"
   ]
  },
  {
   "cell_type": "markdown",
   "id": "db3be321",
   "metadata": {},
   "source": [
    "all region people are almost equal except Southeas region"
   ]
  },
  {
   "cell_type": "code",
   "execution_count": null,
   "id": "85462512",
   "metadata": {},
   "outputs": [],
   "source": []
  },
  {
   "cell_type": "raw",
   "id": "ce924a0b",
   "metadata": {},
   "source": [
    "Lets convert categprical columns to numarical data using Encoding Technique"
   ]
  },
  {
   "cell_type": "code",
   "execution_count": 16,
   "id": "e231c410",
   "metadata": {},
   "outputs": [],
   "source": [
    "from sklearn.preprocessing import LabelEncoder"
   ]
  },
  {
   "cell_type": "code",
   "execution_count": 17,
   "id": "11d87134",
   "metadata": {},
   "outputs": [
    {
     "name": "stdout",
     "output_type": "stream",
     "text": [
      "So we have converted all the categorical values to the numarical values\n"
     ]
    },
    {
     "data": {
      "text/html": [
       "<div>\n",
       "<style scoped>\n",
       "    .dataframe tbody tr th:only-of-type {\n",
       "        vertical-align: middle;\n",
       "    }\n",
       "\n",
       "    .dataframe tbody tr th {\n",
       "        vertical-align: top;\n",
       "    }\n",
       "\n",
       "    .dataframe thead th {\n",
       "        text-align: right;\n",
       "    }\n",
       "</style>\n",
       "<table border=\"1\" class=\"dataframe\">\n",
       "  <thead>\n",
       "    <tr style=\"text-align: right;\">\n",
       "      <th></th>\n",
       "      <th>age</th>\n",
       "      <th>sex</th>\n",
       "      <th>bmi</th>\n",
       "      <th>children</th>\n",
       "      <th>smoker</th>\n",
       "      <th>region</th>\n",
       "      <th>charges</th>\n",
       "    </tr>\n",
       "  </thead>\n",
       "  <tbody>\n",
       "    <tr>\n",
       "      <th>0</th>\n",
       "      <td>19</td>\n",
       "      <td>0</td>\n",
       "      <td>27.900</td>\n",
       "      <td>0</td>\n",
       "      <td>1</td>\n",
       "      <td>3</td>\n",
       "      <td>16884.92400</td>\n",
       "    </tr>\n",
       "    <tr>\n",
       "      <th>1</th>\n",
       "      <td>18</td>\n",
       "      <td>1</td>\n",
       "      <td>33.770</td>\n",
       "      <td>1</td>\n",
       "      <td>0</td>\n",
       "      <td>2</td>\n",
       "      <td>1725.55230</td>\n",
       "    </tr>\n",
       "    <tr>\n",
       "      <th>2</th>\n",
       "      <td>28</td>\n",
       "      <td>1</td>\n",
       "      <td>33.000</td>\n",
       "      <td>3</td>\n",
       "      <td>0</td>\n",
       "      <td>2</td>\n",
       "      <td>4449.46200</td>\n",
       "    </tr>\n",
       "    <tr>\n",
       "      <th>3</th>\n",
       "      <td>33</td>\n",
       "      <td>1</td>\n",
       "      <td>22.705</td>\n",
       "      <td>0</td>\n",
       "      <td>0</td>\n",
       "      <td>1</td>\n",
       "      <td>21984.47061</td>\n",
       "    </tr>\n",
       "    <tr>\n",
       "      <th>4</th>\n",
       "      <td>32</td>\n",
       "      <td>1</td>\n",
       "      <td>28.880</td>\n",
       "      <td>0</td>\n",
       "      <td>0</td>\n",
       "      <td>1</td>\n",
       "      <td>3866.85520</td>\n",
       "    </tr>\n",
       "    <tr>\n",
       "      <th>...</th>\n",
       "      <td>...</td>\n",
       "      <td>...</td>\n",
       "      <td>...</td>\n",
       "      <td>...</td>\n",
       "      <td>...</td>\n",
       "      <td>...</td>\n",
       "      <td>...</td>\n",
       "    </tr>\n",
       "    <tr>\n",
       "      <th>1333</th>\n",
       "      <td>50</td>\n",
       "      <td>1</td>\n",
       "      <td>30.970</td>\n",
       "      <td>3</td>\n",
       "      <td>0</td>\n",
       "      <td>1</td>\n",
       "      <td>10600.54830</td>\n",
       "    </tr>\n",
       "    <tr>\n",
       "      <th>1334</th>\n",
       "      <td>18</td>\n",
       "      <td>0</td>\n",
       "      <td>31.920</td>\n",
       "      <td>0</td>\n",
       "      <td>0</td>\n",
       "      <td>0</td>\n",
       "      <td>2205.98080</td>\n",
       "    </tr>\n",
       "    <tr>\n",
       "      <th>1335</th>\n",
       "      <td>18</td>\n",
       "      <td>0</td>\n",
       "      <td>36.850</td>\n",
       "      <td>0</td>\n",
       "      <td>0</td>\n",
       "      <td>2</td>\n",
       "      <td>1629.83350</td>\n",
       "    </tr>\n",
       "    <tr>\n",
       "      <th>1336</th>\n",
       "      <td>21</td>\n",
       "      <td>0</td>\n",
       "      <td>25.800</td>\n",
       "      <td>0</td>\n",
       "      <td>0</td>\n",
       "      <td>3</td>\n",
       "      <td>2007.94500</td>\n",
       "    </tr>\n",
       "    <tr>\n",
       "      <th>1337</th>\n",
       "      <td>61</td>\n",
       "      <td>0</td>\n",
       "      <td>29.070</td>\n",
       "      <td>0</td>\n",
       "      <td>1</td>\n",
       "      <td>1</td>\n",
       "      <td>29141.36030</td>\n",
       "    </tr>\n",
       "  </tbody>\n",
       "</table>\n",
       "<p>1338 rows × 7 columns</p>\n",
       "</div>"
      ],
      "text/plain": [
       "      age  sex     bmi  children  smoker  region      charges\n",
       "0      19    0  27.900         0       1       3  16884.92400\n",
       "1      18    1  33.770         1       0       2   1725.55230\n",
       "2      28    1  33.000         3       0       2   4449.46200\n",
       "3      33    1  22.705         0       0       1  21984.47061\n",
       "4      32    1  28.880         0       0       1   3866.85520\n",
       "...   ...  ...     ...       ...     ...     ...          ...\n",
       "1333   50    1  30.970         3       0       1  10600.54830\n",
       "1334   18    0  31.920         0       0       0   2205.98080\n",
       "1335   18    0  36.850         0       0       2   1629.83350\n",
       "1336   21    0  25.800         0       0       3   2007.94500\n",
       "1337   61    0  29.070         0       1       1  29141.36030\n",
       "\n",
       "[1338 rows x 7 columns]"
      ]
     },
     "execution_count": 17,
     "metadata": {},
     "output_type": "execute_result"
    }
   ],
   "source": [
    "LE= LabelEncoder()\n",
    "\n",
    "list = ['sex','smoker','region']\n",
    "for col in list:\n",
    "    df[col]=LE.fit_transform(df[col].astype(str))\n",
    "\n",
    "print('So we have converted all the categorical values to the numarical values')\n",
    "df"
   ]
  },
  {
   "cell_type": "code",
   "execution_count": null,
   "id": "2d309ee2",
   "metadata": {},
   "outputs": [],
   "source": []
  },
  {
   "cell_type": "raw",
   "id": "3314a0e6",
   "metadata": {},
   "source": [
    "Checking all feature columns distribution with target variable"
   ]
  },
  {
   "cell_type": "code",
   "execution_count": 18,
   "id": "a36452b5",
   "metadata": {},
   "outputs": [
    {
     "data": {
      "image/png": "[encoded data removed]",
      "text/plain": [
       "<Figure size 1500x1000 with 6 Axes>"
      ]
     },
     "metadata": {},
     "output_type": "display_data"
    }
   ],
   "source": [
    "plt.figure(figsize=(15,10))\n",
    "plot = 1\n",
    "for col in df.columns:\n",
    "    if plot<=6:\n",
    "        plt.subplot(3,3,plot)\n",
    "        sns.distplot(df[col])\n",
    "        plt.xlabel(['charges'], fontsize = 12)\n",
    "        plt.ylabel(col, fontsize = 12)\n",
    "    plot+=1\n",
    "plt.show()"
   ]
  },
  {
   "cell_type": "code",
   "execution_count": null,
   "id": "79905958",
   "metadata": {},
   "outputs": [],
   "source": []
  },
  {
   "cell_type": "raw",
   "id": "262a6e9e",
   "metadata": {},
   "source": [
    "splitting features nd target to checkoutliers"
   ]
  },
  {
   "cell_type": "code",
   "execution_count": 19,
   "id": "1a2eb346",
   "metadata": {},
   "outputs": [],
   "source": [
    "features = df.iloc[:,0:-1]\n",
    "target = df.iloc[:,-1]"
   ]
  },
  {
   "cell_type": "code",
   "execution_count": 20,
   "id": "20247876",
   "metadata": {},
   "outputs": [
    {
     "data": {
      "image/png": "[encoded data removed]",
      "text/plain": [
       "<Figure size 1200x2000 with 6 Axes>"
      ]
     },
     "metadata": {},
     "output_type": "display_data"
    }
   ],
   "source": [
    "plt.figure(figsize=(12,20))\n",
    "plot = 1\n",
    "for col in features:\n",
    "    if plot<=7:\n",
    "        plt.subplot(5,3,plot)\n",
    "        sns.boxplot(df[col])\n",
    "        plt.xlabel(col)\n",
    "    plot+=1\n",
    "plt.show()"
   ]
  },
  {
   "cell_type": "markdown",
   "id": "7de06e4b",
   "metadata": {},
   "source": [
    "By observing boxplot we can understand that in coulumn sex and bmi outliers ar epresent"
   ]
  },
  {
   "cell_type": "raw",
   "id": "54e034e5",
   "metadata": {},
   "source": [
    "Removing Ouliers using zscore method"
   ]
  },
  {
   "cell_type": "code",
   "execution_count": 21,
   "id": "f186c6ab",
   "metadata": {},
   "outputs": [],
   "source": [
    "from scipy.stats import zscore"
   ]
  },
  {
   "cell_type": "code",
   "execution_count": 22,
   "id": "0564d115",
   "metadata": {},
   "outputs": [
    {
     "data": {
      "text/html": [
       "<div>\n",
       "<style scoped>\n",
       "    .dataframe tbody tr th:only-of-type {\n",
       "        vertical-align: middle;\n",
       "    }\n",
       "\n",
       "    .dataframe tbody tr th {\n",
       "        vertical-align: top;\n",
       "    }\n",
       "\n",
       "    .dataframe thead th {\n",
       "        text-align: right;\n",
       "    }\n",
       "</style>\n",
       "<table border=\"1\" class=\"dataframe\">\n",
       "  <thead>\n",
       "    <tr style=\"text-align: right;\">\n",
       "      <th></th>\n",
       "      <th>bmi</th>\n",
       "      <th>smoker</th>\n",
       "    </tr>\n",
       "  </thead>\n",
       "  <tbody>\n",
       "    <tr>\n",
       "      <th>0</th>\n",
       "      <td>0.453320</td>\n",
       "      <td>1.970587</td>\n",
       "    </tr>\n",
       "    <tr>\n",
       "      <th>1</th>\n",
       "      <td>0.509621</td>\n",
       "      <td>0.507463</td>\n",
       "    </tr>\n",
       "    <tr>\n",
       "      <th>2</th>\n",
       "      <td>0.383307</td>\n",
       "      <td>0.507463</td>\n",
       "    </tr>\n",
       "    <tr>\n",
       "      <th>3</th>\n",
       "      <td>1.305531</td>\n",
       "      <td>0.507463</td>\n",
       "    </tr>\n",
       "    <tr>\n",
       "      <th>4</th>\n",
       "      <td>0.292556</td>\n",
       "      <td>0.507463</td>\n",
       "    </tr>\n",
       "    <tr>\n",
       "      <th>...</th>\n",
       "      <td>...</td>\n",
       "      <td>...</td>\n",
       "    </tr>\n",
       "    <tr>\n",
       "      <th>1333</th>\n",
       "      <td>0.050297</td>\n",
       "      <td>0.507463</td>\n",
       "    </tr>\n",
       "    <tr>\n",
       "      <th>1334</th>\n",
       "      <td>0.206139</td>\n",
       "      <td>0.507463</td>\n",
       "    </tr>\n",
       "    <tr>\n",
       "      <th>1335</th>\n",
       "      <td>1.014878</td>\n",
       "      <td>0.507463</td>\n",
       "    </tr>\n",
       "    <tr>\n",
       "      <th>1336</th>\n",
       "      <td>0.797813</td>\n",
       "      <td>0.507463</td>\n",
       "    </tr>\n",
       "    <tr>\n",
       "      <th>1337</th>\n",
       "      <td>0.261388</td>\n",
       "      <td>1.970587</td>\n",
       "    </tr>\n",
       "  </tbody>\n",
       "</table>\n",
       "<p>1338 rows × 2 columns</p>\n",
       "</div>"
      ],
      "text/plain": [
       "           bmi    smoker\n",
       "0     0.453320  1.970587\n",
       "1     0.509621  0.507463\n",
       "2     0.383307  0.507463\n",
       "3     1.305531  0.507463\n",
       "4     0.292556  0.507463\n",
       "...        ...       ...\n",
       "1333  0.050297  0.507463\n",
       "1334  0.206139  0.507463\n",
       "1335  1.014878  0.507463\n",
       "1336  0.797813  0.507463\n",
       "1337  0.261388  1.970587\n",
       "\n",
       "[1338 rows x 2 columns]"
      ]
     },
     "execution_count": 22,
     "metadata": {},
     "output_type": "execute_result"
    }
   ],
   "source": [
    "df1 = df[['bmi','smoker']]\n",
    "z=np.abs(zscore(df1))\n",
    "z"
   ]
  },
  {
   "cell_type": "code",
   "execution_count": null,
   "id": "b19d4d75",
   "metadata": {},
   "outputs": [],
   "source": []
  },
  {
   "cell_type": "raw",
   "id": "731ef9dc",
   "metadata": {},
   "source": [
    "Now lets chech are there any value which are > zscore value(3)"
   ]
  },
  {
   "cell_type": "code",
   "execution_count": 23,
   "id": "feb700b0",
   "metadata": {},
   "outputs": [
    {
     "data": {
      "text/plain": [
       "(array([ 116,  847, 1047, 1317], dtype=int64),\n",
       " array([0, 0, 0, 0], dtype=int64))"
      ]
     },
     "execution_count": 23,
     "metadata": {},
     "output_type": "execute_result"
    }
   ],
   "source": [
    "np.where(z>3)"
   ]
  },
  {
   "cell_type": "code",
   "execution_count": 24,
   "id": "2f7e3c88",
   "metadata": {},
   "outputs": [
    {
     "data": {
      "text/plain": [
       "(1334, 7)"
      ]
     },
     "execution_count": 24,
     "metadata": {},
     "output_type": "execute_result"
    }
   ],
   "source": [
    "df1 = df[(z<3).all(axis=1)]\n",
    "df1.shape"
   ]
  },
  {
   "cell_type": "markdown",
   "id": "b536f369",
   "metadata": {},
   "source": [
    "So lets check Percentage of data we have lost after zscore method"
   ]
  },
  {
   "cell_type": "code",
   "execution_count": 25,
   "id": "c0810c13",
   "metadata": {},
   "outputs": [
    {
     "name": "stdout",
     "output_type": "stream",
     "text": [
      "Loss of Data in percentage 0.29895366218236175\n"
     ]
    }
   ],
   "source": [
    "print('Loss of Data in percentage',((df.shape[0]-df1.shape[0])/df.shape[0])*100)"
   ]
  },
  {
   "cell_type": "code",
   "execution_count": null,
   "id": "849fd0d2",
   "metadata": {},
   "outputs": [],
   "source": []
  },
  {
   "cell_type": "raw",
   "id": "531fcf6f",
   "metadata": {},
   "source": [
    "check for skewness"
   ]
  },
  {
   "cell_type": "code",
   "execution_count": 26,
   "id": "d0d0e007",
   "metadata": {},
   "outputs": [
    {
     "data": {
      "text/plain": [
       "age         0.055673\n",
       "sex        -0.020951\n",
       "bmi         0.284047\n",
       "children    0.938380\n",
       "smoker      1.464766\n",
       "region     -0.038101\n",
       "charges     1.515880\n",
       "dtype: float64"
      ]
     },
     "execution_count": 26,
     "metadata": {},
     "output_type": "execute_result"
    }
   ],
   "source": [
    "df.skew()"
   ]
  },
  {
   "cell_type": "markdown",
   "id": "5ef61690",
   "metadata": {},
   "source": [
    "there is skewness in smoker column but we can not remove skewness from categorical data and target "
   ]
  },
  {
   "cell_type": "code",
   "execution_count": null,
   "id": "c602ce2b",
   "metadata": {},
   "outputs": [],
   "source": []
  },
  {
   "cell_type": "raw",
   "id": "c191666b",
   "metadata": {},
   "source": [
    "checking for correlation between feature values and target"
   ]
  },
  {
   "cell_type": "code",
   "execution_count": 27,
   "id": "f7b167c9",
   "metadata": {},
   "outputs": [
    {
     "data": {
      "text/html": [
       "<div>\n",
       "<style scoped>\n",
       "    .dataframe tbody tr th:only-of-type {\n",
       "        vertical-align: middle;\n",
       "    }\n",
       "\n",
       "    .dataframe tbody tr th {\n",
       "        vertical-align: top;\n",
       "    }\n",
       "\n",
       "    .dataframe thead th {\n",
       "        text-align: right;\n",
       "    }\n",
       "</style>\n",
       "<table border=\"1\" class=\"dataframe\">\n",
       "  <thead>\n",
       "    <tr style=\"text-align: right;\">\n",
       "      <th></th>\n",
       "      <th>age</th>\n",
       "      <th>sex</th>\n",
       "      <th>bmi</th>\n",
       "      <th>children</th>\n",
       "      <th>smoker</th>\n",
       "      <th>region</th>\n",
       "      <th>charges</th>\n",
       "    </tr>\n",
       "  </thead>\n",
       "  <tbody>\n",
       "    <tr>\n",
       "      <th>age</th>\n",
       "      <td>1.000000</td>\n",
       "      <td>-0.020856</td>\n",
       "      <td>0.109272</td>\n",
       "      <td>0.042469</td>\n",
       "      <td>-0.025019</td>\n",
       "      <td>0.002127</td>\n",
       "      <td>0.299008</td>\n",
       "    </tr>\n",
       "    <tr>\n",
       "      <th>sex</th>\n",
       "      <td>-0.020856</td>\n",
       "      <td>1.000000</td>\n",
       "      <td>0.046371</td>\n",
       "      <td>0.017163</td>\n",
       "      <td>0.076185</td>\n",
       "      <td>0.004588</td>\n",
       "      <td>0.057292</td>\n",
       "    </tr>\n",
       "    <tr>\n",
       "      <th>bmi</th>\n",
       "      <td>0.109272</td>\n",
       "      <td>0.046371</td>\n",
       "      <td>1.000000</td>\n",
       "      <td>0.012759</td>\n",
       "      <td>0.003750</td>\n",
       "      <td>0.157566</td>\n",
       "      <td>0.198341</td>\n",
       "    </tr>\n",
       "    <tr>\n",
       "      <th>children</th>\n",
       "      <td>0.042469</td>\n",
       "      <td>0.017163</td>\n",
       "      <td>0.012759</td>\n",
       "      <td>1.000000</td>\n",
       "      <td>0.007673</td>\n",
       "      <td>0.016569</td>\n",
       "      <td>0.067998</td>\n",
       "    </tr>\n",
       "    <tr>\n",
       "      <th>smoker</th>\n",
       "      <td>-0.025019</td>\n",
       "      <td>0.076185</td>\n",
       "      <td>0.003750</td>\n",
       "      <td>0.007673</td>\n",
       "      <td>1.000000</td>\n",
       "      <td>-0.002181</td>\n",
       "      <td>0.787251</td>\n",
       "    </tr>\n",
       "    <tr>\n",
       "      <th>region</th>\n",
       "      <td>0.002127</td>\n",
       "      <td>0.004588</td>\n",
       "      <td>0.157566</td>\n",
       "      <td>0.016569</td>\n",
       "      <td>-0.002181</td>\n",
       "      <td>1.000000</td>\n",
       "      <td>-0.006208</td>\n",
       "    </tr>\n",
       "    <tr>\n",
       "      <th>charges</th>\n",
       "      <td>0.299008</td>\n",
       "      <td>0.057292</td>\n",
       "      <td>0.198341</td>\n",
       "      <td>0.067998</td>\n",
       "      <td>0.787251</td>\n",
       "      <td>-0.006208</td>\n",
       "      <td>1.000000</td>\n",
       "    </tr>\n",
       "  </tbody>\n",
       "</table>\n",
       "</div>"
      ],
      "text/plain": [
       "               age       sex       bmi  children    smoker    region   charges\n",
       "age       1.000000 -0.020856  0.109272  0.042469 -0.025019  0.002127  0.299008\n",
       "sex      -0.020856  1.000000  0.046371  0.017163  0.076185  0.004588  0.057292\n",
       "bmi       0.109272  0.046371  1.000000  0.012759  0.003750  0.157566  0.198341\n",
       "children  0.042469  0.017163  0.012759  1.000000  0.007673  0.016569  0.067998\n",
       "smoker   -0.025019  0.076185  0.003750  0.007673  1.000000 -0.002181  0.787251\n",
       "region    0.002127  0.004588  0.157566  0.016569 -0.002181  1.000000 -0.006208\n",
       "charges   0.299008  0.057292  0.198341  0.067998  0.787251 -0.006208  1.000000"
      ]
     },
     "execution_count": 27,
     "metadata": {},
     "output_type": "execute_result"
    }
   ],
   "source": [
    "df.corr()"
   ]
  },
  {
   "cell_type": "code",
   "execution_count": 28,
   "id": "e0e62de0",
   "metadata": {},
   "outputs": [
    {
     "data": {
      "text/plain": [
       "<Axes: >"
      ]
     },
     "execution_count": 28,
     "metadata": {},
     "output_type": "execute_result"
    },
    {
     "data": {
      "image/png": "[encoded data removed]",
      "text/plain": [
       "<Figure size 800x500 with 2 Axes>"
      ]
     },
     "metadata": {},
     "output_type": "display_data"
    }
   ],
   "source": [
    "plt.figure(figsize=(8,5))\n",
    "sns.heatmap(df.corr(),fmt='.1g',cmap='Blues_r', annot=True)"
   ]
  },
  {
   "cell_type": "code",
   "execution_count": null,
   "id": "9055b008",
   "metadata": {},
   "outputs": [],
   "source": []
  },
  {
   "cell_type": "raw",
   "id": "72b33850",
   "metadata": {},
   "source": [
    "spitting the data"
   ]
  },
  {
   "cell_type": "code",
   "execution_count": 29,
   "id": "5a44365c",
   "metadata": {},
   "outputs": [],
   "source": [
    "x = df.drop('charges',axis=1)\n",
    "y = df['charges']"
   ]
  },
  {
   "cell_type": "code",
   "execution_count": null,
   "id": "de25f03d",
   "metadata": {},
   "outputs": [],
   "source": []
  },
  {
   "cell_type": "raw",
   "id": "d76aa9b1",
   "metadata": {},
   "source": [
    "Scaling"
   ]
  },
  {
   "cell_type": "code",
   "execution_count": 30,
   "id": "3144f7f1",
   "metadata": {},
   "outputs": [],
   "source": [
    "from sklearn.preprocessing import StandardScaler"
   ]
  },
  {
   "cell_type": "code",
   "execution_count": 31,
   "id": "f88c2edd",
   "metadata": {},
   "outputs": [
    {
     "data": {
      "text/html": [
       "<div>\n",
       "<style scoped>\n",
       "    .dataframe tbody tr th:only-of-type {\n",
       "        vertical-align: middle;\n",
       "    }\n",
       "\n",
       "    .dataframe tbody tr th {\n",
       "        vertical-align: top;\n",
       "    }\n",
       "\n",
       "    .dataframe thead th {\n",
       "        text-align: right;\n",
       "    }\n",
       "</style>\n",
       "<table border=\"1\" class=\"dataframe\">\n",
       "  <thead>\n",
       "    <tr style=\"text-align: right;\">\n",
       "      <th></th>\n",
       "      <th>age</th>\n",
       "      <th>sex</th>\n",
       "      <th>bmi</th>\n",
       "      <th>children</th>\n",
       "      <th>smoker</th>\n",
       "      <th>region</th>\n",
       "    </tr>\n",
       "  </thead>\n",
       "  <tbody>\n",
       "    <tr>\n",
       "      <th>0</th>\n",
       "      <td>-1.438764</td>\n",
       "      <td>-1.010519</td>\n",
       "      <td>-0.453320</td>\n",
       "      <td>-0.908614</td>\n",
       "      <td>1.970587</td>\n",
       "      <td>1.343905</td>\n",
       "    </tr>\n",
       "    <tr>\n",
       "      <th>1</th>\n",
       "      <td>-1.509965</td>\n",
       "      <td>0.989591</td>\n",
       "      <td>0.509621</td>\n",
       "      <td>-0.078767</td>\n",
       "      <td>-0.507463</td>\n",
       "      <td>0.438495</td>\n",
       "    </tr>\n",
       "    <tr>\n",
       "      <th>2</th>\n",
       "      <td>-0.797954</td>\n",
       "      <td>0.989591</td>\n",
       "      <td>0.383307</td>\n",
       "      <td>1.580926</td>\n",
       "      <td>-0.507463</td>\n",
       "      <td>0.438495</td>\n",
       "    </tr>\n",
       "    <tr>\n",
       "      <th>3</th>\n",
       "      <td>-0.441948</td>\n",
       "      <td>0.989591</td>\n",
       "      <td>-1.305531</td>\n",
       "      <td>-0.908614</td>\n",
       "      <td>-0.507463</td>\n",
       "      <td>-0.466915</td>\n",
       "    </tr>\n",
       "    <tr>\n",
       "      <th>4</th>\n",
       "      <td>-0.513149</td>\n",
       "      <td>0.989591</td>\n",
       "      <td>-0.292556</td>\n",
       "      <td>-0.908614</td>\n",
       "      <td>-0.507463</td>\n",
       "      <td>-0.466915</td>\n",
       "    </tr>\n",
       "    <tr>\n",
       "      <th>...</th>\n",
       "      <td>...</td>\n",
       "      <td>...</td>\n",
       "      <td>...</td>\n",
       "      <td>...</td>\n",
       "      <td>...</td>\n",
       "      <td>...</td>\n",
       "    </tr>\n",
       "    <tr>\n",
       "      <th>1333</th>\n",
       "      <td>0.768473</td>\n",
       "      <td>0.989591</td>\n",
       "      <td>0.050297</td>\n",
       "      <td>1.580926</td>\n",
       "      <td>-0.507463</td>\n",
       "      <td>-0.466915</td>\n",
       "    </tr>\n",
       "    <tr>\n",
       "      <th>1334</th>\n",
       "      <td>-1.509965</td>\n",
       "      <td>-1.010519</td>\n",
       "      <td>0.206139</td>\n",
       "      <td>-0.908614</td>\n",
       "      <td>-0.507463</td>\n",
       "      <td>-1.372326</td>\n",
       "    </tr>\n",
       "    <tr>\n",
       "      <th>1335</th>\n",
       "      <td>-1.509965</td>\n",
       "      <td>-1.010519</td>\n",
       "      <td>1.014878</td>\n",
       "      <td>-0.908614</td>\n",
       "      <td>-0.507463</td>\n",
       "      <td>0.438495</td>\n",
       "    </tr>\n",
       "    <tr>\n",
       "      <th>1336</th>\n",
       "      <td>-1.296362</td>\n",
       "      <td>-1.010519</td>\n",
       "      <td>-0.797813</td>\n",
       "      <td>-0.908614</td>\n",
       "      <td>-0.507463</td>\n",
       "      <td>1.343905</td>\n",
       "    </tr>\n",
       "    <tr>\n",
       "      <th>1337</th>\n",
       "      <td>1.551686</td>\n",
       "      <td>-1.010519</td>\n",
       "      <td>-0.261388</td>\n",
       "      <td>-0.908614</td>\n",
       "      <td>1.970587</td>\n",
       "      <td>-0.466915</td>\n",
       "    </tr>\n",
       "  </tbody>\n",
       "</table>\n",
       "<p>1338 rows × 6 columns</p>\n",
       "</div>"
      ],
      "text/plain": [
       "           age       sex       bmi  children    smoker    region\n",
       "0    -1.438764 -1.010519 -0.453320 -0.908614  1.970587  1.343905\n",
       "1    -1.509965  0.989591  0.509621 -0.078767 -0.507463  0.438495\n",
       "2    -0.797954  0.989591  0.383307  1.580926 -0.507463  0.438495\n",
       "3    -0.441948  0.989591 -1.305531 -0.908614 -0.507463 -0.466915\n",
       "4    -0.513149  0.989591 -0.292556 -0.908614 -0.507463 -0.466915\n",
       "...        ...       ...       ...       ...       ...       ...\n",
       "1333  0.768473  0.989591  0.050297  1.580926 -0.507463 -0.466915\n",
       "1334 -1.509965 -1.010519  0.206139 -0.908614 -0.507463 -1.372326\n",
       "1335 -1.509965 -1.010519  1.014878 -0.908614 -0.507463  0.438495\n",
       "1336 -1.296362 -1.010519 -0.797813 -0.908614 -0.507463  1.343905\n",
       "1337  1.551686 -1.010519 -0.261388 -0.908614  1.970587 -0.466915\n",
       "\n",
       "[1338 rows x 6 columns]"
      ]
     },
     "execution_count": 31,
     "metadata": {},
     "output_type": "execute_result"
    }
   ],
   "source": [
    "sc = StandardScaler()\n",
    "\n",
    "x = pd.DataFrame(sc.fit_transform(x),columns=x.columns)\n",
    "x"
   ]
  },
  {
   "cell_type": "code",
   "execution_count": null,
   "id": "a6ee1ac7",
   "metadata": {},
   "outputs": [],
   "source": []
  },
  {
   "cell_type": "markdown",
   "id": "fc734a7e",
   "metadata": {},
   "source": [
    "### Buildin Model"
   ]
  },
  {
   "cell_type": "code",
   "execution_count": 35,
   "id": "84f76831",
   "metadata": {},
   "outputs": [],
   "source": [
    "from sklearn.model_selection import train_test_split\n",
    "from sklearn.linear_model import LinearRegression, Lasso, Ridge\n",
    "from sklearn.metrics import mean_squared_error, mean_absolute_error, r2_score"
   ]
  },
  {
   "cell_type": "code",
   "execution_count": 34,
   "id": "b420324b",
   "metadata": {},
   "outputs": [
    {
     "name": "stdout",
     "output_type": "stream",
     "text": [
      "33805466.898688614\n",
      "4155.239843059381\n",
      "0.7694415927057693\n"
     ]
    }
   ],
   "source": [
    "x_train,x_test,y_train,y_test = train_test_split(x,y, test_size=.30, random_state=42)\n",
    "\n",
    "\n",
    "lr = LinearRegression()\n",
    "lr.fit(x_train,y_train)\n",
    "predlr = lr.predict(x_test)\n",
    "print(mean_squared_error(y_test,predlr))\n",
    "print(mean_absolute_error(y_test,predlr))\n",
    "print(r2_score(y_test,predlr))"
   ]
  },
  {
   "cell_type": "code",
   "execution_count": 40,
   "id": "a3c1c374",
   "metadata": {},
   "outputs": [
    {
     "name": "stdout",
     "output_type": "stream",
     "text": [
      "33804869.21059549\n",
      "4155.051839718793\n",
      "0.7694456690291409\n"
     ]
    }
   ],
   "source": [
    "la = Lasso()\n",
    "la.fit(x_train,y_train)\n",
    "predla = la.predict(x_test)\n",
    "print(mean_squared_error(y_test,predla))\n",
    "print(mean_absolute_error(y_test,predla))\n",
    "print(r2_score(y_test,predla))"
   ]
  },
  {
   "cell_type": "code",
   "execution_count": 41,
   "id": "ef571a74",
   "metadata": {},
   "outputs": [
    {
     "name": "stdout",
     "output_type": "stream",
     "text": [
      "33808138.722259015\n",
      "4156.4803090241885\n",
      "0.769423370464118\n"
     ]
    }
   ],
   "source": [
    "rg = Ridge()\n",
    "rg.fit(x_train,y_train)\n",
    "predrg = rg.predict(x_test)\n",
    "print(mean_squared_error(y_test,predrg))\n",
    "print(mean_absolute_error(y_test,predrg))\n",
    "print(r2_score(y_test,predrg))"
   ]
  },
  {
   "cell_type": "code",
   "execution_count": null,
   "id": "cecfbd34",
   "metadata": {},
   "outputs": [],
   "source": []
  },
  {
   "cell_type": "code",
   "execution_count": 54,
   "id": "b8c82c1a",
   "metadata": {},
   "outputs": [],
   "source": [
    "from sklearn.ensemble import RandomForestRegressor, ExtraTreesRegressor\n",
    "from sklearn.tree import DecisionTreeRegressor\n",
    "from sklearn.neighbors import KNeighborsRegressor"
   ]
  },
  {
   "cell_type": "code",
   "execution_count": 44,
   "id": "d4eb5893",
   "metadata": {},
   "outputs": [
    {
     "name": "stdout",
     "output_type": "stream",
     "text": [
      "21459140.91514073\n",
      "2545.853276069652\n",
      "0.8536454069359641\n"
     ]
    }
   ],
   "source": [
    "rfr = RandomForestRegressor()\n",
    "rfr.fit(x_train,y_train)\n",
    "predrfr = rfr.predict(x_test)\n",
    "print(mean_squared_error(y_test,predrfr))\n",
    "print(mean_absolute_error(y_test,predrfr))\n",
    "print(r2_score(y_test,predrfr))"
   ]
  },
  {
   "cell_type": "code",
   "execution_count": 55,
   "id": "9ca7c23c",
   "metadata": {},
   "outputs": [
    {
     "name": "stdout",
     "output_type": "stream",
     "text": [
      "23601710.582426555\n",
      "2533.2022930912945\n",
      "0.8390327571096275\n"
     ]
    }
   ],
   "source": [
    "etr = ExtraTreesRegressor()\n",
    "etr.fit(x_train,y_train)\n",
    "predetr = etr.predict(x_test)\n",
    "print(mean_squared_error(y_test,predetr))\n",
    "print(mean_absolute_error(y_test,predetr))\n",
    "print(r2_score(y_test,predetr))"
   ]
  },
  {
   "cell_type": "code",
   "execution_count": 50,
   "id": "a21c5579",
   "metadata": {},
   "outputs": [
    {
     "name": "stdout",
     "output_type": "stream",
     "text": [
      "39822348.32449658\n",
      "2864.6297277338313\n",
      "0.7284055495542299\n"
     ]
    }
   ],
   "source": [
    "dtr = DecisionTreeRegressor()\n",
    "dtr.fit(x_train,y_train)\n",
    "predtr = dtr.predict(x_test)\n",
    "print(mean_squared_error(y_test,predtr))\n",
    "print(mean_absolute_error(y_test,predtr))\n",
    "print(r2_score(y_test,predtr))"
   ]
  },
  {
   "cell_type": "code",
   "execution_count": 52,
   "id": "086f8aaf",
   "metadata": {},
   "outputs": [
    {
     "name": "stdout",
     "output_type": "stream",
     "text": [
      "25091193.592689823\n",
      "3093.263397624378\n",
      "0.828874257256119\n"
     ]
    }
   ],
   "source": [
    "knr = KNeighborsRegressor()\n",
    "knr.fit(x_train,y_train)\n",
    "predknr = knr.predict(x_test)\n",
    "print(mean_squared_error(y_test,predknr))\n",
    "print(mean_absolute_error(y_test,predknr))\n",
    "print(r2_score(y_test,predknr))"
   ]
  },
  {
   "cell_type": "code",
   "execution_count": null,
   "id": "805d9b0a",
   "metadata": {},
   "outputs": [],
   "source": []
  },
  {
   "cell_type": "markdown",
   "id": "be531cb3",
   "metadata": {},
   "source": [
    "Lets check for Cross validation"
   ]
  },
  {
   "cell_type": "code",
   "execution_count": 56,
   "id": "7f7097c1",
   "metadata": {},
   "outputs": [],
   "source": [
    "from sklearn.model_selection import cross_val_score"
   ]
  },
  {
   "cell_type": "code",
   "execution_count": 70,
   "id": "d581b981",
   "metadata": {},
   "outputs": [
    {
     "name": "stdout",
     "output_type": "stream",
     "text": [
      "[0.76123983 0.70838663 0.77786772 0.73365206 0.7551335 ]\n",
      "0.7472559473580954\n",
      "difference in r2_score and cvs 0.022189721671045493\n"
     ]
    }
   ],
   "source": [
    "score1 = cross_val_score(lr,x,y)\n",
    "print(score1)\n",
    "print(score1.mean())\n",
    "print('difference in r2_score and cvs',r2_score(y_test,predlr)-score1.mean())"
   ]
  },
  {
   "cell_type": "code",
   "execution_count": 71,
   "id": "9a2216b4",
   "metadata": {},
   "outputs": [
    {
     "name": "stdout",
     "output_type": "stream",
     "text": [
      "[0.76124697 0.70842054 0.77784891 0.73364937 0.75513888]\n",
      "0.7472609349374297\n",
      "difference in r2_score and cvs 0.022184734091711178\n"
     ]
    }
   ],
   "source": [
    "score2 = cross_val_score(la,x,y)\n",
    "print(score2)\n",
    "print(score2.mean())\n",
    "print('difference in r2_score and cvs',r2_score(y_test,predla)-score2.mean())"
   ]
  },
  {
   "cell_type": "code",
   "execution_count": 72,
   "id": "7b8713f1",
   "metadata": {},
   "outputs": [
    {
     "name": "stdout",
     "output_type": "stream",
     "text": [
      "[0.76124956 0.70849269 0.77774855 0.73370746 0.75510598]\n",
      "0.7472608501582404\n",
      "difference in r2_score and cvs 0.02216252030587762\n"
     ]
    }
   ],
   "source": [
    "score3 = cross_val_score(rg,x,y)\n",
    "print(score3)\n",
    "print(score3.mean())\n",
    "print('difference in r2_score and cvs',r2_score(y_test,predrg)-score3.mean())"
   ]
  },
  {
   "cell_type": "code",
   "execution_count": null,
   "id": "b2a99464",
   "metadata": {},
   "outputs": [],
   "source": []
  },
  {
   "cell_type": "code",
   "execution_count": 73,
   "id": "281d6d51",
   "metadata": {},
   "outputs": [
    {
     "name": "stdout",
     "output_type": "stream",
     "text": [
      "[0.85454891 0.7731801  0.8703709  0.8255888  0.8544446 ]\n",
      "0.8356266604115892\n",
      "difference in r2_score and cvs 0.018018746524374962\n"
     ]
    }
   ],
   "source": [
    "score4 = cross_val_score(rfr,x,y)\n",
    "print(score4)\n",
    "print(score4.mean())\n",
    "print('difference in r2_score and cvs',r2_score(y_test,predrfr)-score4.mean())"
   ]
  },
  {
   "cell_type": "code",
   "execution_count": 74,
   "id": "5be92ae4",
   "metadata": {},
   "outputs": [
    {
     "name": "stdout",
     "output_type": "stream",
     "text": [
      "[0.83338285 0.74703183 0.85020889 0.81106072 0.84134184]\n",
      "0.8166052266017712\n",
      "difference in r2_score and cvs 0.022427530507856397\n"
     ]
    }
   ],
   "source": [
    "score5 = cross_val_score(etr,x,y)\n",
    "print(score5)\n",
    "print(score5.mean())\n",
    "print('difference in r2_score and cvs',r2_score(y_test,predetr)-score5.mean())"
   ]
  },
  {
   "cell_type": "code",
   "execution_count": 75,
   "id": "4aeaf1b5",
   "metadata": {},
   "outputs": [
    {
     "name": "stdout",
     "output_type": "stream",
     "text": [
      "[0.77070784 0.67768394 0.72796184 0.71805556 0.66743886]\n",
      "0.7123696077986117\n",
      "difference in r2_score and cvs 0.016035941755618177\n"
     ]
    }
   ],
   "source": [
    "score6 = cross_val_score(dtr,x,y)\n",
    "print(score6)\n",
    "print(score6.mean())\n",
    "print('difference in r2_score and cvs',r2_score(y_test,predtr)-score6.mean())"
   ]
  },
  {
   "cell_type": "code",
   "execution_count": 76,
   "id": "26278f2f",
   "metadata": {},
   "outputs": [
    {
     "name": "stdout",
     "output_type": "stream",
     "text": [
      "[0.8221881  0.7555254  0.83987794 0.8050002  0.80856984]\n",
      "0.8062322958732286\n",
      "difference in r2_score and cvs 0.02264196138289032\n"
     ]
    }
   ],
   "source": [
    "score7 = cross_val_score(knr,x,y)\n",
    "print(score7)\n",
    "print(score7.mean())\n",
    "print('difference in r2_score and cvs',r2_score(y_test,predknr)-score7.mean())"
   ]
  },
  {
   "cell_type": "code",
   "execution_count": null,
   "id": "a1eb9210",
   "metadata": {},
   "outputs": [],
   "source": []
  },
  {
   "cell_type": "markdown",
   "id": "88d1cead",
   "metadata": {},
   "source": [
    "So here we can see that RandomForestRegressor is giving us best R2 and csv score\n",
    "So the DecisionTreeRegressor is our best performing model"
   ]
  },
  {
   "cell_type": "code",
   "execution_count": null,
   "id": "e6b2e784",
   "metadata": {},
   "outputs": [],
   "source": []
  },
  {
   "cell_type": "code",
   "execution_count": 78,
   "id": "514f08bc",
   "metadata": {},
   "outputs": [],
   "source": [
    "from sklearn.model_selection import GridSearchCV"
   ]
  },
  {
   "cell_type": "code",
   "execution_count": 77,
   "id": "cd5362c1",
   "metadata": {},
   "outputs": [],
   "source": [
    "param = { \"n_estimators\" : [10,20,30], \"max_features\" : [\"auto\", \"sqrt\", \"log2\"], \"min_samples_split\" : [2,4,8],\n",
    "            \"bootstrap\": [True, False],}"
   ]
  },
  {
   "cell_type": "code",
   "execution_count": 83,
   "id": "bd47381e",
   "metadata": {},
   "outputs": [
    {
     "name": "stdout",
     "output_type": "stream",
     "text": [
      "86.23543829459693\n"
     ]
    }
   ],
   "source": [
    "estimator = RandomForestRegressor()\n",
    "grid = GridSearchCV(estimator, param, n_jobs=-1, cv=5)\n",
    "\n",
    "grid.fit(x_train, y_train)\n",
    "predgrid = grid.predict(x_test)\n",
    "R2 = r2_score(y_test,predgrid)\n",
    "print(R2*100)"
   ]
  },
  {
   "cell_type": "code",
   "execution_count": 84,
   "id": "5ccd6c50",
   "metadata": {},
   "outputs": [
    {
     "data": {
      "text/plain": [
       "{'bootstrap': True,\n",
       " 'max_features': 'auto',\n",
       " 'min_samples_split': 8,\n",
       " 'n_estimators': 30}"
      ]
     },
     "execution_count": 84,
     "metadata": {},
     "output_type": "execute_result"
    }
   ],
   "source": [
    "grid.best_params_"
   ]
  },
  {
   "cell_type": "code",
   "execution_count": 85,
   "id": "b18901c9",
   "metadata": {},
   "outputs": [],
   "source": [
    "import joblib"
   ]
  },
  {
   "cell_type": "code",
   "execution_count": 86,
   "id": "8e297891",
   "metadata": {},
   "outputs": [
    {
     "data": {
      "text/plain": [
       "['Medical_Cost_Personal_Insurance_Project.pkl']"
      ]
     },
     "execution_count": 86,
     "metadata": {},
     "output_type": "execute_result"
    }
   ],
   "source": [
    "joblib.dump(grid,'Medical_Cost_Personal_Insurance_Project.pkl')"
   ]
  },
  {
   "cell_type": "code",
   "execution_count": null,
   "id": "0e90f100",
   "metadata": {},
   "outputs": [],
   "source": []
  },
  {
   "cell_type": "code",
   "execution_count": 88,
   "id": "2cafe335",
   "metadata": {},
   "outputs": [
    {
     "data": {
      "text/html": [
       "<style>#sk-container-id-3 {color: black;background-color: white;}#sk-container-id-3 pre{padding: 0;}#sk-container-id-3 div.sk-toggleable {background-color: white;}#sk-container-id-3 label.sk-toggleable__label {cursor: pointer;display: block;width: 100%;margin-bottom: 0;padding: 0.3em;box-sizing: border-box;text-align: center;}#sk-container-id-3 label.sk-toggleable__label-arrow:before {content: \"▸\";float: left;margin-right: 0.25em;color: #696969;}#sk-container-id-3 label.sk-toggleable__label-arrow:hover:before {color: black;}#sk-container-id-3 div.sk-estimator:hover label.sk-toggleable__label-arrow:before {color: black;}#sk-container-id-3 div.sk-toggleable__content {max-height: 0;max-width: 0;overflow: hidden;text-align: left;background-color: #f0f8ff;}#sk-container-id-3 div.sk-toggleable__content pre {margin: 0.2em;color: black;border-radius: 0.25em;background-color: #f0f8ff;}#sk-container-id-3 input.sk-toggleable__control:checked~div.sk-toggleable__content {max-height: 200px;max-width: 100%;overflow: auto;}#sk-container-id-3 input.sk-toggleable__control:checked~label.sk-toggleable__label-arrow:before {content: \"▾\";}#sk-container-id-3 div.sk-estimator input.sk-toggleable__control:checked~label.sk-toggleable__label {background-color: #d4ebff;}#sk-container-id-3 div.sk-label input.sk-toggleable__control:checked~label.sk-toggleable__label {background-color: #d4ebff;}#sk-container-id-3 input.sk-hidden--visually {border: 0;clip: rect(1px 1px 1px 1px);clip: rect(1px, 1px, 1px, 1px);height: 1px;margin: -1px;overflow: hidden;padding: 0;position: absolute;width: 1px;}#sk-container-id-3 div.sk-estimator {font-family: monospace;background-color: #f0f8ff;border: 1px dotted black;border-radius: 0.25em;box-sizing: border-box;margin-bottom: 0.5em;}#sk-container-id-3 div.sk-estimator:hover {background-color: #d4ebff;}#sk-container-id-3 div.sk-parallel-item::after {content: \"\";width: 100%;border-bottom: 1px solid gray;flex-grow: 1;}#sk-container-id-3 div.sk-label:hover label.sk-toggleable__label {background-color: #d4ebff;}#sk-container-id-3 div.sk-serial::before {content: \"\";position: absolute;border-left: 1px solid gray;box-sizing: border-box;top: 0;bottom: 0;left: 50%;z-index: 0;}#sk-container-id-3 div.sk-serial {display: flex;flex-direction: column;align-items: center;background-color: white;padding-right: 0.2em;padding-left: 0.2em;position: relative;}#sk-container-id-3 div.sk-item {position: relative;z-index: 1;}#sk-container-id-3 div.sk-parallel {display: flex;align-items: stretch;justify-content: center;background-color: white;position: relative;}#sk-container-id-3 div.sk-item::before, #sk-container-id-3 div.sk-parallel-item::before {content: \"\";position: absolute;border-left: 1px solid gray;box-sizing: border-box;top: 0;bottom: 0;left: 50%;z-index: -1;}#sk-container-id-3 div.sk-parallel-item {display: flex;flex-direction: column;z-index: 1;position: relative;background-color: white;}#sk-container-id-3 div.sk-parallel-item:first-child::after {align-self: flex-end;width: 50%;}#sk-container-id-3 div.sk-parallel-item:last-child::after {align-self: flex-start;width: 50%;}#sk-container-id-3 div.sk-parallel-item:only-child::after {width: 0;}#sk-container-id-3 div.sk-dashed-wrapped {border: 1px dashed gray;margin: 0 0.4em 0.5em 0.4em;box-sizing: border-box;padding-bottom: 0.4em;background-color: white;}#sk-container-id-3 div.sk-label label {font-family: monospace;font-weight: bold;display: inline-block;line-height: 1.2em;}#sk-container-id-3 div.sk-label-container {text-align: center;}#sk-container-id-3 div.sk-container {/* jupyter's `normalize.less` sets `[hidden] { display: none; }` but bootstrap.min.css set `[hidden] { display: none !important; }` so we also need the `!important` here to be able to override the default hidden behavior on the sphinx rendered scikit-learn.org. See: https://github.com/scikit-learn/scikit-learn/issues/21755 */display: inline-block !important;position: relative;}#sk-container-id-3 div.sk-text-repr-fallback {display: none;}</style><div id=\"sk-container-id-3\" class=\"sk-top-container\"><div class=\"sk-text-repr-fallback\"><pre>GridSearchCV(cv=5, estimator=RandomForestRegressor(), n_jobs=-1,\n",
       "             param_grid={&#x27;bootstrap&#x27;: [True, False],\n",
       "                         &#x27;max_features&#x27;: [&#x27;auto&#x27;, &#x27;sqrt&#x27;, &#x27;log2&#x27;],\n",
       "                         &#x27;min_samples_split&#x27;: [2, 4, 8],\n",
       "                         &#x27;n_estimators&#x27;: [10, 20, 30]})</pre><b>In a Jupyter environment, please rerun this cell to show the HTML representation or trust the notebook. <br />On GitHub, the HTML representation is unable to render, please try loading this page with nbviewer.org.</b></div><div class=\"sk-container\" hidden><div class=\"sk-item sk-dashed-wrapped\"><div class=\"sk-label-container\"><div class=\"sk-label sk-toggleable\"><input class=\"sk-toggleable__control sk-hidden--visually\" id=\"sk-estimator-id-7\" type=\"checkbox\" ><label for=\"sk-estimator-id-7\" class=\"sk-toggleable__label sk-toggleable__label-arrow\">GridSearchCV</label><div class=\"sk-toggleable__content\"><pre>GridSearchCV(cv=5, estimator=RandomForestRegressor(), n_jobs=-1,\n",
       "             param_grid={&#x27;bootstrap&#x27;: [True, False],\n",
       "                         &#x27;max_features&#x27;: [&#x27;auto&#x27;, &#x27;sqrt&#x27;, &#x27;log2&#x27;],\n",
       "                         &#x27;min_samples_split&#x27;: [2, 4, 8],\n",
       "                         &#x27;n_estimators&#x27;: [10, 20, 30]})</pre></div></div></div><div class=\"sk-parallel\"><div class=\"sk-parallel-item\"><div class=\"sk-item\"><div class=\"sk-label-container\"><div class=\"sk-label sk-toggleable\"><input class=\"sk-toggleable__control sk-hidden--visually\" id=\"sk-estimator-id-8\" type=\"checkbox\" ><label for=\"sk-estimator-id-8\" class=\"sk-toggleable__label sk-toggleable__label-arrow\">estimator: RandomForestRegressor</label><div class=\"sk-toggleable__content\"><pre>RandomForestRegressor()</pre></div></div></div><div class=\"sk-serial\"><div class=\"sk-item\"><div class=\"sk-estimator sk-toggleable\"><input class=\"sk-toggleable__control sk-hidden--visually\" id=\"sk-estimator-id-9\" type=\"checkbox\" ><label for=\"sk-estimator-id-9\" class=\"sk-toggleable__label sk-toggleable__label-arrow\">RandomForestRegressor</label><div class=\"sk-toggleable__content\"><pre>RandomForestRegressor()</pre></div></div></div></div></div></div></div></div></div></div>"
      ],
      "text/plain": [
       "GridSearchCV(cv=5, estimator=RandomForestRegressor(), n_jobs=-1,\n",
       "             param_grid={'bootstrap': [True, False],\n",
       "                         'max_features': ['auto', 'sqrt', 'log2'],\n",
       "                         'min_samples_split': [2, 4, 8],\n",
       "                         'n_estimators': [10, 20, 30]})"
      ]
     },
     "execution_count": 88,
     "metadata": {},
     "output_type": "execute_result"
    }
   ],
   "source": [
    "model = joblib.load('Medical_Cost_Personal_Insurance_Project.pkl')\n",
    "model"
   ]
  },
  {
   "cell_type": "code",
   "execution_count": 89,
   "id": "0c78018e",
   "metadata": {},
   "outputs": [
    {
     "data": {
      "text/plain": [
       "array([ 9965.58634193,  5047.40160968, 27277.05836431, 10003.30829566,\n",
       "       34731.19691791,  8071.17768442,  2264.47535223, 14278.71726053,\n",
       "        6237.97806359, 10658.31876835, 19795.12856501,  7084.97313221,\n",
       "        4798.85187345, 46270.32770283, 48370.86126079, 45222.24002642,\n",
       "       11063.10829473, 43296.23678475, 10017.39501208, 25289.54976872,\n",
       "        5894.71244039,  9138.4888284 ,  1772.83179693,  2957.95072437,\n",
       "       12667.40826566, 12239.21335526, 13503.8861335 ,  6017.27458193,\n",
       "       10281.45511909,  3318.30493425,  8600.80456698, 11733.47642693,\n",
       "        2268.73881443,  5540.68763157,  3088.06278935, 13239.27375338,\n",
       "        4153.15124896,  8236.18097518, 24344.49358102, 39759.59716214,\n",
       "        7410.84222256,  3580.66047168, 12376.77411057, 13724.41373136,\n",
       "        5991.48822767, 16947.38263912,  8858.00948131,  6109.59132488,\n",
       "       42049.77430077,  6079.40599553, 14343.87045158,  3028.35022843,\n",
       "        7188.86818494,  2083.54208721, 11527.57305052, 11368.81896551,\n",
       "        3633.63178938, 43625.53422033, 12203.9651423 , 12982.71414784,\n",
       "       13726.34310148,  7158.09461562, 19359.70486304,  7379.7247739 ,\n",
       "       12360.48521056,  6889.9681545 , 18505.95020166, 11892.79008796,\n",
       "        7490.31245204,  2072.59206352,  7615.40246796, 11270.84972276,\n",
       "        9415.96818745,  8118.75675109,  7760.73756821,  5368.92680171,\n",
       "        9021.61789549, 11756.76779577,  4263.47814903,  9672.69361334,\n",
       "        1687.94800416, 27737.9263314 ,  7060.4818312 , 37385.67627105,\n",
       "       39796.96278597, 42136.12937519,  5953.20387842, 11878.60668146,\n",
       "        9276.05080072, 14509.85170642, 20013.41544338, 27168.07173449,\n",
       "       25886.63033256,  5225.96362683, 47075.4036783 ,  7118.78198288,\n",
       "       20080.38735458,  2501.95991793, 17736.28723545,  6294.29539391,\n",
       "        5378.84287059,  2108.38582072,  6571.57247257, 14547.64523114,\n",
       "       14738.52696951,  5765.48099953,  8312.4842183 , 25301.44947855,\n",
       "        2083.54208721, 24617.98558263,  1377.55560915,  4740.22541543,\n",
       "       13255.90109688, 41627.29521488, 11342.25073876,  5346.48250075,\n",
       "       13054.60423367, 24604.20056564,  6850.06967105,  6303.62980456,\n",
       "        7619.92078333, 10021.2568253 , 16941.13390009,  3245.03681817,\n",
       "        6775.20725013,  7622.14370294,  9619.74581236, 12012.89780269,\n",
       "       14556.32507116,  2559.88950188,  4289.89912274,  6385.01548041,\n",
       "        6203.65609029, 13674.44355955,  6320.51512785, 21228.19830662,\n",
       "        6150.34527632, 39333.15128319, 45624.81412576, 40793.01655932,\n",
       "        5207.44440594, 13492.42037168,  3363.38611568, 15516.71897257,\n",
       "        2963.91427499, 23974.7205977 ,  5922.90998708,  4664.29308209,\n",
       "       12566.41709053,  4854.79736996, 47265.54037893,  7220.31628264,\n",
       "        1619.60818276, 45534.73712738,  6846.17755131,  5624.35769375,\n",
       "       13631.06751248, 10245.20578894, 35806.85502532, 41271.66327753,\n",
       "       14234.30038248,  3963.46122669, 18979.09351509,  4343.19674297,\n",
       "        4953.78120959,  8080.86353498, 48416.18640249, 44781.73239109,\n",
       "       41540.89817395,  4927.84693241, 11432.28086787,  7195.08934173,\n",
       "        7936.7405758 ,  4952.79004484,  2382.97155854, 23435.57439318,\n",
       "       17077.55394468, 14493.96001595, 16439.50493333, 11829.74694752,\n",
       "       27382.34138978,  7157.39752647,  9701.17154504,  5638.68210876,\n",
       "        6166.64370812,  6185.67451807,  7181.25595915,  4720.71962597,\n",
       "        9971.62192873, 11931.07377003,  4135.21209435,  6624.55803754,\n",
       "        4236.97043315, 44623.28952986, 13395.20721371,  9619.17882554,\n",
       "        3939.53886864, 13797.82845739,  4290.49295844, 12615.04126626,\n",
       "        4069.41460885, 25163.68046427,  8025.18983272,  5002.32200456,\n",
       "       19015.86654339, 18098.61026505, 10990.44243529,  8385.42223854,\n",
       "       10165.59598241,  5981.20173952, 15253.69677789, 13129.78106128,\n",
       "       12974.74143049, 18921.04755009,  7222.89995901,  3894.32813879,\n",
       "        4834.99099136, 15007.34438822, 15007.58732932,  5201.85940504,\n",
       "        2204.37588622,  9324.84109255,  9886.80769117, 44550.84424559,\n",
       "        2320.72454974, 39078.22824336,  1921.8210535 ,  2094.75290592,\n",
       "        9449.81534111, 11885.16513653,  2140.97073097, 10386.78466093,\n",
       "        5035.15947659, 25920.39432261, 10185.37250086,  9608.70559105,\n",
       "        5110.17905818,  7649.13845835, 45124.69399995,  3257.52705365,\n",
       "       14436.43095148, 39512.27266594,  4105.61238619,  4035.2034192 ,\n",
       "        1674.87022305,  3519.64418315,  4561.87691925,  4451.71684011,\n",
       "       13147.62941794,  2662.90742693,  2255.92025949,  8950.14263786,\n",
       "        4785.78283554, 11965.6051765 ,  4407.47569689,  4447.64026641,\n",
       "       12910.76915956,  6714.86716088,  9295.33728909,  6394.97579211,\n",
       "        7572.98403471, 14923.5825935 , 19716.28316678, 47189.59093949,\n",
       "       13259.37625924,  6396.78725846, 46771.10798206,  9515.16305101,\n",
       "        9875.69011672, 11696.56792603, 10034.78319203, 11328.13789895,\n",
       "       13683.3033648 , 14366.2878255 ,  2391.76771754, 14532.87273387,\n",
       "        9791.71127399, 41161.74625098,  6263.51060268,  9608.46450885,\n",
       "        9923.39138015, 14889.97235516, 12796.97292807,  9863.9101149 ,\n",
       "       39392.5702495 ,  3397.67039655, 10936.06991213, 47179.82613113,\n",
       "        5154.38221777,  4464.18765958,  4599.0066801 , 11717.63551112,\n",
       "       15836.47552442, 12981.69303465, 11063.80910448, 13730.41200935,\n",
       "       10817.99623073,  4889.76910645,  3431.49111277, 39511.71793512,\n",
       "       39801.32113529,  9335.91947665,  7536.66179131, 16850.93465606,\n",
       "       14780.51347265, 40013.50656061,  3507.51164749, 47644.33743698,\n",
       "        6888.0678676 ,  2150.83461701,  6125.06333359,  3028.35022843,\n",
       "       18144.29694844, 13621.08904508,  4175.62067023, 15107.87566294,\n",
       "       11946.4306039 , 13155.60235784, 42867.07728833, 13500.64083334,\n",
       "       25019.81549691,  7371.31281269, 19199.83008583,  5053.99678011,\n",
       "       11614.47002611,  8840.38410548, 15495.13518157, 14442.69278142,\n",
       "        4471.42571129, 12598.91387675, 13297.14381857, 12037.6239559 ,\n",
       "        4864.07732186, 34013.4833739 ,  7124.95902649,  4399.73648493,\n",
       "        4716.60127678,  9601.70981249, 42244.32683923, 10880.43114845,\n",
       "       14754.76506601,  7177.18921048,  6014.30498119,  5028.51202554,\n",
       "        8780.65054214,  9381.45458735,  6030.5095952 ,  2970.31538781,\n",
       "       11656.42840022, 12019.5017357 ,  5510.59461694,  4968.84240518,\n",
       "       11752.02690376,  5324.1426016 , 40912.12217297, 38439.27604566,\n",
       "       46891.33025351,  6358.38032033, 10247.75145085,  6361.17240108,\n",
       "        2518.6950402 , 22399.47591236,  7638.98615961, 18163.91032266,\n",
       "       42679.41793517,  5802.37132567, 13532.81094325,  5639.62969216,\n",
       "       10853.22940916, 12926.58977056, 23925.58950841, 14618.26339254,\n",
       "        7543.57532242,  6710.33219046,  4608.58318528, 12068.88655896,\n",
       "       20879.89604842, 12182.62749009, 10029.80668952,  3847.60225495,\n",
       "        9736.35915964,  6368.01444417, 11198.74193321,  9733.33176092,\n",
       "       24019.52783753, 48019.60923193, 11734.99978248,  9994.95357225,\n",
       "       13230.33109927, 14405.0237256 ,  7270.89440951,  5065.78932841,\n",
       "        7469.55117389,  4090.67737578,  8860.73870195,  4873.30966833,\n",
       "       11741.07373661, 14904.45119737,  6585.38199767,  6624.55803754,\n",
       "       12090.9427941 ,  4632.73379759])"
      ]
     },
     "execution_count": 89,
     "metadata": {},
     "output_type": "execute_result"
    }
   ],
   "source": [
    "pred_x = model.predict(x_test)\n",
    "pred_x"
   ]
  },
  {
   "cell_type": "code",
   "execution_count": 90,
   "id": "0bff530f",
   "metadata": {},
   "outputs": [],
   "source": [
    "data = pd.DataFrame({'model predicted':pred_x,'original':y_test})"
   ]
  },
  {
   "cell_type": "code",
   "execution_count": 91,
   "id": "8b630893",
   "metadata": {},
   "outputs": [
    {
     "data": {
      "text/html": [
       "<div>\n",
       "<style scoped>\n",
       "    .dataframe tbody tr th:only-of-type {\n",
       "        vertical-align: middle;\n",
       "    }\n",
       "\n",
       "    .dataframe tbody tr th {\n",
       "        vertical-align: top;\n",
       "    }\n",
       "\n",
       "    .dataframe thead th {\n",
       "        text-align: right;\n",
       "    }\n",
       "</style>\n",
       "<table border=\"1\" class=\"dataframe\">\n",
       "  <thead>\n",
       "    <tr style=\"text-align: right;\">\n",
       "      <th></th>\n",
       "      <th>model predicted</th>\n",
       "      <th>original</th>\n",
       "    </tr>\n",
       "  </thead>\n",
       "  <tbody>\n",
       "    <tr>\n",
       "      <th>764</th>\n",
       "      <td>9965.586342</td>\n",
       "      <td>9095.06825</td>\n",
       "    </tr>\n",
       "    <tr>\n",
       "      <th>887</th>\n",
       "      <td>5047.401610</td>\n",
       "      <td>5272.17580</td>\n",
       "    </tr>\n",
       "    <tr>\n",
       "      <th>890</th>\n",
       "      <td>27277.058364</td>\n",
       "      <td>29330.98315</td>\n",
       "    </tr>\n",
       "    <tr>\n",
       "      <th>1293</th>\n",
       "      <td>10003.308296</td>\n",
       "      <td>9301.89355</td>\n",
       "    </tr>\n",
       "    <tr>\n",
       "      <th>259</th>\n",
       "      <td>34731.196918</td>\n",
       "      <td>33750.29180</td>\n",
       "    </tr>\n",
       "    <tr>\n",
       "      <th>...</th>\n",
       "      <td>...</td>\n",
       "      <td>...</td>\n",
       "    </tr>\n",
       "    <tr>\n",
       "      <th>701</th>\n",
       "      <td>14904.451197</td>\n",
       "      <td>9541.69555</td>\n",
       "    </tr>\n",
       "    <tr>\n",
       "      <th>672</th>\n",
       "      <td>6585.381998</td>\n",
       "      <td>4399.73100</td>\n",
       "    </tr>\n",
       "    <tr>\n",
       "      <th>1163</th>\n",
       "      <td>6624.558038</td>\n",
       "      <td>2200.83085</td>\n",
       "    </tr>\n",
       "    <tr>\n",
       "      <th>1103</th>\n",
       "      <td>12090.942794</td>\n",
       "      <td>11363.28320</td>\n",
       "    </tr>\n",
       "    <tr>\n",
       "      <th>1295</th>\n",
       "      <td>4632.733798</td>\n",
       "      <td>1964.78000</td>\n",
       "    </tr>\n",
       "  </tbody>\n",
       "</table>\n",
       "<p>402 rows × 2 columns</p>\n",
       "</div>"
      ],
      "text/plain": [
       "      model predicted     original\n",
       "764       9965.586342   9095.06825\n",
       "887       5047.401610   5272.17580\n",
       "890      27277.058364  29330.98315\n",
       "1293     10003.308296   9301.89355\n",
       "259      34731.196918  33750.29180\n",
       "...               ...          ...\n",
       "701      14904.451197   9541.69555\n",
       "672       6585.381998   4399.73100\n",
       "1163      6624.558038   2200.83085\n",
       "1103     12090.942794  11363.28320\n",
       "1295      4632.733798   1964.78000\n",
       "\n",
       "[402 rows x 2 columns]"
      ]
     },
     "execution_count": 91,
     "metadata": {},
     "output_type": "execute_result"
    }
   ],
   "source": [
    "data"
   ]
  },
  {
   "cell_type": "code",
   "execution_count": null,
   "id": "c21fc457",
   "metadata": {},
   "outputs": [],
   "source": []
  }
 ],
 "metadata": {
  "kernelspec": {
   "display_name": "Python 3 (ipykernel)",
   "language": "python",
   "name": "python3"
  },
  "language_info": {
   "codemirror_mode": {
    "name": "ipython",
    "version": 3
   },
   "file_extension": ".py",
   "mimetype": "text/x-python",
   "name": "python",
   "nbconvert_exporter": "python",
   "pygments_lexer": "ipython3",
   "version": "3.11.3"
  }
 },
 "nbformat": 4,
 "nbformat_minor": 5
}
